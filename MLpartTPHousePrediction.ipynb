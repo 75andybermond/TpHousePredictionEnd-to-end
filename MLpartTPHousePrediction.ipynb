{
 "cells": [
  {
   "cell_type": "code",
   "execution_count": 89,
   "id": "dc8f4087-9ff9-42cc-be4f-e60e752a7053",
   "metadata": {},
   "outputs": [],
   "source": [
    "import numpy as np\n",
    "import pandas as pd\n",
    "import matplotlib.pyplot as plt # basic plotting\n",
    "import seaborn as sns\n",
    "\n",
    "from sklearn.preprocessing import MinMaxScaler\n",
    "from sklearn.model_selection import train_test_split\n",
    "from sklearn.model_selection import GridSearchCV\n",
    "from sklearn.neural_network import MLPRegressor\n",
    "from sklearn.metrics import mean_squared_error\n",
    "from sklearn.preprocessing import LabelEncoder\n",
    "from sklearn import preprocessing\n",
    "\n",
    "%matplotlib inline "
   ]
  },
  {
   "cell_type": "code",
   "execution_count": 90,
   "id": "81f1abb2-26f1-4198-b3b2-733eff38f612",
   "metadata": {},
   "outputs": [
    {
     "data": {
      "text/html": [
       "<div>\n",
       "<style scoped>\n",
       "    .dataframe tbody tr th:only-of-type {\n",
       "        vertical-align: middle;\n",
       "    }\n",
       "\n",
       "    .dataframe tbody tr th {\n",
       "        vertical-align: top;\n",
       "    }\n",
       "\n",
       "    .dataframe thead th {\n",
       "        text-align: right;\n",
       "    }\n",
       "</style>\n",
       "<table border=\"1\" class=\"dataframe\">\n",
       "  <thead>\n",
       "    <tr style=\"text-align: right;\">\n",
       "      <th></th>\n",
       "      <th>price</th>\n",
       "      <th>long</th>\n",
       "      <th>lat</th>\n",
       "      <th>year</th>\n",
       "      <th>sqft_above</th>\n",
       "      <th>bedrooms_1</th>\n",
       "      <th>bedrooms_2</th>\n",
       "      <th>bedrooms_3</th>\n",
       "      <th>bedrooms_4</th>\n",
       "      <th>bedrooms_5</th>\n",
       "      <th>...</th>\n",
       "      <th>zipcode_98199</th>\n",
       "      <th>HouseAgeGroup_1</th>\n",
       "      <th>HouseAgeGroup_2</th>\n",
       "      <th>HouseAgeGroup_3</th>\n",
       "      <th>HouseAgeGroup_4</th>\n",
       "      <th>view_0.0</th>\n",
       "      <th>view_1.0</th>\n",
       "      <th>view_2.0</th>\n",
       "      <th>view_3.0</th>\n",
       "      <th>view_4.0</th>\n",
       "    </tr>\n",
       "  </thead>\n",
       "  <tbody>\n",
       "    <tr>\n",
       "      <th>0</th>\n",
       "      <td>221900.0</td>\n",
       "      <td>-122.257</td>\n",
       "      <td>47.5112</td>\n",
       "      <td>2014</td>\n",
       "      <td>1180</td>\n",
       "      <td>0</td>\n",
       "      <td>0</td>\n",
       "      <td>1</td>\n",
       "      <td>0</td>\n",
       "      <td>0</td>\n",
       "      <td>...</td>\n",
       "      <td>0</td>\n",
       "      <td>0</td>\n",
       "      <td>0</td>\n",
       "      <td>1</td>\n",
       "      <td>0</td>\n",
       "      <td>1</td>\n",
       "      <td>0</td>\n",
       "      <td>0</td>\n",
       "      <td>0</td>\n",
       "      <td>0</td>\n",
       "    </tr>\n",
       "    <tr>\n",
       "      <th>1</th>\n",
       "      <td>538000.0</td>\n",
       "      <td>-122.319</td>\n",
       "      <td>47.7210</td>\n",
       "      <td>2014</td>\n",
       "      <td>2170</td>\n",
       "      <td>0</td>\n",
       "      <td>0</td>\n",
       "      <td>1</td>\n",
       "      <td>0</td>\n",
       "      <td>0</td>\n",
       "      <td>...</td>\n",
       "      <td>0</td>\n",
       "      <td>0</td>\n",
       "      <td>0</td>\n",
       "      <td>1</td>\n",
       "      <td>0</td>\n",
       "      <td>1</td>\n",
       "      <td>0</td>\n",
       "      <td>0</td>\n",
       "      <td>0</td>\n",
       "      <td>0</td>\n",
       "    </tr>\n",
       "    <tr>\n",
       "      <th>2</th>\n",
       "      <td>180000.0</td>\n",
       "      <td>-122.233</td>\n",
       "      <td>47.7379</td>\n",
       "      <td>2015</td>\n",
       "      <td>770</td>\n",
       "      <td>0</td>\n",
       "      <td>1</td>\n",
       "      <td>0</td>\n",
       "      <td>0</td>\n",
       "      <td>0</td>\n",
       "      <td>...</td>\n",
       "      <td>0</td>\n",
       "      <td>0</td>\n",
       "      <td>0</td>\n",
       "      <td>0</td>\n",
       "      <td>1</td>\n",
       "      <td>1</td>\n",
       "      <td>0</td>\n",
       "      <td>0</td>\n",
       "      <td>0</td>\n",
       "      <td>0</td>\n",
       "    </tr>\n",
       "    <tr>\n",
       "      <th>3</th>\n",
       "      <td>604000.0</td>\n",
       "      <td>-122.393</td>\n",
       "      <td>47.5208</td>\n",
       "      <td>2014</td>\n",
       "      <td>1050</td>\n",
       "      <td>0</td>\n",
       "      <td>0</td>\n",
       "      <td>0</td>\n",
       "      <td>1</td>\n",
       "      <td>0</td>\n",
       "      <td>...</td>\n",
       "      <td>0</td>\n",
       "      <td>0</td>\n",
       "      <td>0</td>\n",
       "      <td>1</td>\n",
       "      <td>0</td>\n",
       "      <td>1</td>\n",
       "      <td>0</td>\n",
       "      <td>0</td>\n",
       "      <td>0</td>\n",
       "      <td>0</td>\n",
       "    </tr>\n",
       "    <tr>\n",
       "      <th>4</th>\n",
       "      <td>510000.0</td>\n",
       "      <td>-122.045</td>\n",
       "      <td>47.6168</td>\n",
       "      <td>2015</td>\n",
       "      <td>1680</td>\n",
       "      <td>0</td>\n",
       "      <td>0</td>\n",
       "      <td>1</td>\n",
       "      <td>0</td>\n",
       "      <td>0</td>\n",
       "      <td>...</td>\n",
       "      <td>0</td>\n",
       "      <td>0</td>\n",
       "      <td>1</td>\n",
       "      <td>0</td>\n",
       "      <td>0</td>\n",
       "      <td>1</td>\n",
       "      <td>0</td>\n",
       "      <td>0</td>\n",
       "      <td>0</td>\n",
       "      <td>0</td>\n",
       "    </tr>\n",
       "  </tbody>\n",
       "</table>\n",
       "<p>5 rows × 141 columns</p>\n",
       "</div>"
      ],
      "text/plain": [
       "      price     long      lat  year  sqft_above  bedrooms_1  bedrooms_2  \\\n",
       "0  221900.0 -122.257  47.5112  2014        1180           0           0   \n",
       "1  538000.0 -122.319  47.7210  2014        2170           0           0   \n",
       "2  180000.0 -122.233  47.7379  2015         770           0           1   \n",
       "3  604000.0 -122.393  47.5208  2014        1050           0           0   \n",
       "4  510000.0 -122.045  47.6168  2015        1680           0           0   \n",
       "\n",
       "   bedrooms_3  bedrooms_4  bedrooms_5  ...  zipcode_98199  HouseAgeGroup_1  \\\n",
       "0           1           0           0  ...              0                0   \n",
       "1           1           0           0  ...              0                0   \n",
       "2           0           0           0  ...              0                0   \n",
       "3           0           1           0  ...              0                0   \n",
       "4           1           0           0  ...              0                0   \n",
       "\n",
       "   HouseAgeGroup_2  HouseAgeGroup_3  HouseAgeGroup_4  view_0.0  view_1.0  \\\n",
       "0                0                1                0         1         0   \n",
       "1                0                1                0         1         0   \n",
       "2                0                0                1         1         0   \n",
       "3                0                1                0         1         0   \n",
       "4                1                0                0         1         0   \n",
       "\n",
       "   view_2.0  view_3.0  view_4.0  \n",
       "0         0         0         0  \n",
       "1         0         0         0  \n",
       "2         0         0         0  \n",
       "3         0         0         0  \n",
       "4         0         0         0  \n",
       "\n",
       "[5 rows x 141 columns]"
      ]
     },
     "execution_count": 90,
     "metadata": {},
     "output_type": "execute_result"
    }
   ],
   "source": [
    "#TBD\n",
    "encodedf = pd.read_csv('df_clean.csv')\n",
    "encodedf.head()"
   ]
  },
  {
   "cell_type": "code",
   "execution_count": 91,
   "id": "aced3278-b516-4fd3-b218-5b9462db8558",
   "metadata": {},
   "outputs": [],
   "source": [
    "X = encodedf.loc[:, encodedf.columns != 'price']\n",
    "y = encodedf.price"
   ]
  },
  {
   "cell_type": "code",
   "execution_count": 92,
   "id": "777787de-0cd8-4669-a494-83c905e02183",
   "metadata": {},
   "outputs": [
    {
     "data": {
      "text/plain": [
       "((17276, 140), (17276,), (4320, 140), (4320,))"
      ]
     },
     "execution_count": 92,
     "metadata": {},
     "output_type": "execute_result"
    }
   ],
   "source": [
    "X_train, X_test, y_train, y_test = train_test_split(X, y, test_size=0.2, random_state=42, shuffle=True)\n",
    "X_train.shape, y_train.shape, X_test.shape, y_test.shape"
   ]
  },
  {
   "cell_type": "code",
   "execution_count": 93,
   "id": "95eb6497-bdb2-4f10-aeaf-4e31f8294fa1",
   "metadata": {},
   "outputs": [
    {
     "data": {
      "text/plain": [
       "MinMaxScaler()"
      ]
     },
     "execution_count": 93,
     "metadata": {},
     "output_type": "execute_result"
    }
   ],
   "source": [
    "scaler = MinMaxScaler()\n",
    "scaler.fit(X_train)"
   ]
  },
  {
   "cell_type": "code",
   "execution_count": 94,
   "id": "b838bf52-7317-4d10-be3c-177571758c27",
   "metadata": {},
   "outputs": [],
   "source": [
    "scaled_X_train = scaler.transform(X_train)\n",
    "scaled_X_test = scaler.transform(X_test)"
   ]
  },
  {
   "cell_type": "code",
   "execution_count": 95,
   "id": "c7bd3adb-c6c5-46f8-a323-d05216c1f1d1",
   "metadata": {},
   "outputs": [],
   "source": [
    "model = MLPRegressor(solver='lbfgs', alpha=0.0001, max_iter=10000, random_state=0, max_fun=15000)\n",
    "hyperparameters = {'hidden_layer_sizes': [ (1,),(3,),(5,), (7,)], 'activation': ['logistic', 'tanh', 'relu']}"
   ]
  },
  {
   "cell_type": "code",
   "execution_count": 96,
   "id": "468d25df-b803-4c22-803e-bda154a43eee",
   "metadata": {},
   "outputs": [
    {
     "name": "stdout",
     "output_type": "stream",
     "text": [
      "Fitting 4 folds for each of 12 candidates, totalling 48 fits\n"
     ]
    },
    {
     "data": {
      "text/plain": [
       "GridSearchCV(cv=4,\n",
       "             estimator=MLPRegressor(max_iter=10000, random_state=0,\n",
       "                                    solver='lbfgs'),\n",
       "             param_grid={'activation': ['logistic', 'tanh', 'relu'],\n",
       "                         'hidden_layer_sizes': [(1,), (3,), (5,), (7,)]},\n",
       "             return_train_score=True, verbose=1)"
      ]
     },
     "execution_count": 96,
     "metadata": {},
     "output_type": "execute_result"
    }
   ],
   "source": [
    "#TBD\n",
    "gridSearchCV = GridSearchCV(model,\n",
    "                            param_grid= hyperparameters,\n",
    "                            refit=True,\n",
    "                            cv=4,\n",
    "                            return_train_score=True, verbose=1)\n",
    "\n",
    "gridSearchCV.fit(scaled_X_train, y_train)"
   ]
  },
  {
   "cell_type": "code",
   "execution_count": 97,
   "id": "3ec37bc2-78ee-47fd-9c83-9582dcb5202f",
   "metadata": {},
   "outputs": [
    {
     "data": {
      "text/plain": [
       "{'activation': 'relu', 'hidden_layer_sizes': (3,)}"
      ]
     },
     "execution_count": 97,
     "metadata": {},
     "output_type": "execute_result"
    }
   ],
   "source": [
    "gridSearchCV.best_params_"
   ]
  },
  {
   "cell_type": "code",
   "execution_count": 98,
   "id": "075baf94-8757-45c5-8b83-7534841c4623",
   "metadata": {},
   "outputs": [
    {
     "data": {
      "text/html": [
       "<div>\n",
       "<style scoped>\n",
       "    .dataframe tbody tr th:only-of-type {\n",
       "        vertical-align: middle;\n",
       "    }\n",
       "\n",
       "    .dataframe tbody tr th {\n",
       "        vertical-align: top;\n",
       "    }\n",
       "\n",
       "    .dataframe thead th {\n",
       "        text-align: right;\n",
       "    }\n",
       "</style>\n",
       "<table border=\"1\" class=\"dataframe\">\n",
       "  <thead>\n",
       "    <tr style=\"text-align: right;\">\n",
       "      <th></th>\n",
       "      <th>mean_fit_time</th>\n",
       "      <th>std_fit_time</th>\n",
       "      <th>mean_score_time</th>\n",
       "      <th>std_score_time</th>\n",
       "      <th>param_activation</th>\n",
       "      <th>param_hidden_layer_sizes</th>\n",
       "      <th>params</th>\n",
       "      <th>split0_test_score</th>\n",
       "      <th>split1_test_score</th>\n",
       "      <th>split2_test_score</th>\n",
       "      <th>split3_test_score</th>\n",
       "      <th>mean_test_score</th>\n",
       "      <th>std_test_score</th>\n",
       "      <th>rank_test_score</th>\n",
       "      <th>split0_train_score</th>\n",
       "      <th>split1_train_score</th>\n",
       "      <th>split2_train_score</th>\n",
       "      <th>split3_train_score</th>\n",
       "      <th>mean_train_score</th>\n",
       "      <th>std_train_score</th>\n",
       "    </tr>\n",
       "  </thead>\n",
       "  <tbody>\n",
       "    <tr>\n",
       "      <th>9</th>\n",
       "      <td>7.428738</td>\n",
       "      <td>2.656435</td>\n",
       "      <td>0.002545</td>\n",
       "      <td>0.000556</td>\n",
       "      <td>relu</td>\n",
       "      <td>(3,)</td>\n",
       "      <td>{'activation': 'relu', 'hidden_layer_sizes': (...</td>\n",
       "      <td>0.827368</td>\n",
       "      <td>0.833357</td>\n",
       "      <td>0.782279</td>\n",
       "      <td>0.850564</td>\n",
       "      <td>0.823392</td>\n",
       "      <td>0.025217</td>\n",
       "      <td>1</td>\n",
       "      <td>8.709018e-01</td>\n",
       "      <td>0.881304</td>\n",
       "      <td>8.841168e-01</td>\n",
       "      <td>8.784075e-01</td>\n",
       "      <td>0.878683</td>\n",
       "      <td>0.004925</td>\n",
       "    </tr>\n",
       "    <tr>\n",
       "      <th>11</th>\n",
       "      <td>9.736032</td>\n",
       "      <td>0.869277</td>\n",
       "      <td>0.002485</td>\n",
       "      <td>0.000507</td>\n",
       "      <td>relu</td>\n",
       "      <td>(7,)</td>\n",
       "      <td>{'activation': 'relu', 'hidden_layer_sizes': (...</td>\n",
       "      <td>0.812372</td>\n",
       "      <td>0.838904</td>\n",
       "      <td>0.761004</td>\n",
       "      <td>0.849390</td>\n",
       "      <td>0.815417</td>\n",
       "      <td>0.034190</td>\n",
       "      <td>2</td>\n",
       "      <td>8.878330e-01</td>\n",
       "      <td>0.891329</td>\n",
       "      <td>8.948919e-01</td>\n",
       "      <td>8.947827e-01</td>\n",
       "      <td>0.892209</td>\n",
       "      <td>0.002905</td>\n",
       "    </tr>\n",
       "    <tr>\n",
       "      <th>10</th>\n",
       "      <td>8.175372</td>\n",
       "      <td>3.458519</td>\n",
       "      <td>0.005017</td>\n",
       "      <td>0.003315</td>\n",
       "      <td>relu</td>\n",
       "      <td>(5,)</td>\n",
       "      <td>{'activation': 'relu', 'hidden_layer_sizes': (...</td>\n",
       "      <td>0.793565</td>\n",
       "      <td>0.791858</td>\n",
       "      <td>0.763978</td>\n",
       "      <td>0.807612</td>\n",
       "      <td>0.789253</td>\n",
       "      <td>0.015821</td>\n",
       "      <td>3</td>\n",
       "      <td>8.186533e-01</td>\n",
       "      <td>0.830391</td>\n",
       "      <td>8.341754e-01</td>\n",
       "      <td>8.255963e-01</td>\n",
       "      <td>0.827204</td>\n",
       "      <td>0.005798</td>\n",
       "    </tr>\n",
       "    <tr>\n",
       "      <th>6</th>\n",
       "      <td>2.080823</td>\n",
       "      <td>2.113424</td>\n",
       "      <td>0.002991</td>\n",
       "      <td>0.000705</td>\n",
       "      <td>tanh</td>\n",
       "      <td>(5,)</td>\n",
       "      <td>{'activation': 'tanh', 'hidden_layer_sizes': (...</td>\n",
       "      <td>0.086045</td>\n",
       "      <td>0.008056</td>\n",
       "      <td>0.083432</td>\n",
       "      <td>0.238957</td>\n",
       "      <td>0.104123</td>\n",
       "      <td>0.083911</td>\n",
       "      <td>4</td>\n",
       "      <td>9.239123e-02</td>\n",
       "      <td>0.007573</td>\n",
       "      <td>8.454302e-02</td>\n",
       "      <td>2.097404e-01</td>\n",
       "      <td>0.098562</td>\n",
       "      <td>0.072240</td>\n",
       "    </tr>\n",
       "    <tr>\n",
       "      <th>2</th>\n",
       "      <td>12.538935</td>\n",
       "      <td>20.818177</td>\n",
       "      <td>0.003739</td>\n",
       "      <td>0.000827</td>\n",
       "      <td>logistic</td>\n",
       "      <td>(5,)</td>\n",
       "      <td>{'activation': 'logistic', 'hidden_layer_sizes...</td>\n",
       "      <td>-0.000181</td>\n",
       "      <td>0.412550</td>\n",
       "      <td>-0.000203</td>\n",
       "      <td>-0.000037</td>\n",
       "      <td>0.103032</td>\n",
       "      <td>0.178700</td>\n",
       "      <td>5</td>\n",
       "      <td>-1.503242e-13</td>\n",
       "      <td>0.419649</td>\n",
       "      <td>-2.220446e-16</td>\n",
       "      <td>-4.030110e-12</td>\n",
       "      <td>0.104912</td>\n",
       "      <td>0.181713</td>\n",
       "    </tr>\n",
       "  </tbody>\n",
       "</table>\n",
       "</div>"
      ],
      "text/plain": [
       "    mean_fit_time  std_fit_time  mean_score_time  std_score_time  \\\n",
       "9        7.428738      2.656435         0.002545        0.000556   \n",
       "11       9.736032      0.869277         0.002485        0.000507   \n",
       "10       8.175372      3.458519         0.005017        0.003315   \n",
       "6        2.080823      2.113424         0.002991        0.000705   \n",
       "2       12.538935     20.818177         0.003739        0.000827   \n",
       "\n",
       "   param_activation param_hidden_layer_sizes  \\\n",
       "9              relu                     (3,)   \n",
       "11             relu                     (7,)   \n",
       "10             relu                     (5,)   \n",
       "6              tanh                     (5,)   \n",
       "2          logistic                     (5,)   \n",
       "\n",
       "                                               params  split0_test_score  \\\n",
       "9   {'activation': 'relu', 'hidden_layer_sizes': (...           0.827368   \n",
       "11  {'activation': 'relu', 'hidden_layer_sizes': (...           0.812372   \n",
       "10  {'activation': 'relu', 'hidden_layer_sizes': (...           0.793565   \n",
       "6   {'activation': 'tanh', 'hidden_layer_sizes': (...           0.086045   \n",
       "2   {'activation': 'logistic', 'hidden_layer_sizes...          -0.000181   \n",
       "\n",
       "    split1_test_score  split2_test_score  split3_test_score  mean_test_score  \\\n",
       "9            0.833357           0.782279           0.850564         0.823392   \n",
       "11           0.838904           0.761004           0.849390         0.815417   \n",
       "10           0.791858           0.763978           0.807612         0.789253   \n",
       "6            0.008056           0.083432           0.238957         0.104123   \n",
       "2            0.412550          -0.000203          -0.000037         0.103032   \n",
       "\n",
       "    std_test_score  rank_test_score  split0_train_score  split1_train_score  \\\n",
       "9         0.025217                1        8.709018e-01            0.881304   \n",
       "11        0.034190                2        8.878330e-01            0.891329   \n",
       "10        0.015821                3        8.186533e-01            0.830391   \n",
       "6         0.083911                4        9.239123e-02            0.007573   \n",
       "2         0.178700                5       -1.503242e-13            0.419649   \n",
       "\n",
       "    split2_train_score  split3_train_score  mean_train_score  std_train_score  \n",
       "9         8.841168e-01        8.784075e-01          0.878683         0.004925  \n",
       "11        8.948919e-01        8.947827e-01          0.892209         0.002905  \n",
       "10        8.341754e-01        8.255963e-01          0.827204         0.005798  \n",
       "6         8.454302e-02        2.097404e-01          0.098562         0.072240  \n",
       "2        -2.220446e-16       -4.030110e-12          0.104912         0.181713  "
      ]
     },
     "execution_count": 98,
     "metadata": {},
     "output_type": "execute_result"
    }
   ],
   "source": [
    "pd.DataFrame(gridSearchCV.cv_results_).sort_values(by=['rank_test_score']).head()"
   ]
  },
  {
   "cell_type": "code",
   "execution_count": 99,
   "id": "f1cbbcd1-6c21-4990-aff4-8218bbe9b1aa",
   "metadata": {},
   "outputs": [],
   "source": [
    "y_predict_train = gridSearchCV.best_estimator_.predict(scaled_X_train)\n"
   ]
  },
  {
   "cell_type": "code",
   "execution_count": 100,
   "id": "9b9324ef-10d2-48b9-808b-8ac165f7b818",
   "metadata": {},
   "outputs": [],
   "source": [
    "MSE_train = mean_squared_error(y_train, y_predict_train)"
   ]
  },
  {
   "cell_type": "code",
   "execution_count": 101,
   "id": "2d589cdc-682a-4448-b476-2c2088579fca",
   "metadata": {},
   "outputs": [
    {
     "name": "stdout",
     "output_type": "stream",
     "text": [
      "L'erreur quadratique moyenne vaut : 16757445358.11\n"
     ]
    }
   ],
   "source": [
    "print(\"L'erreur quadratique moyenne vaut :\", MSE_train.round(2))"
   ]
  },
  {
   "cell_type": "code",
   "execution_count": 102,
   "id": "8656c816-b310-4d45-b5af-04ba14ddf6ec",
   "metadata": {},
   "outputs": [],
   "source": [
    "RMSE_train = mean_squared_error(y_train, y_predict_train, squared=False)"
   ]
  },
  {
   "cell_type": "code",
   "execution_count": 103,
   "id": "eea213c7-35a3-45a5-a544-c88d7ecd9934",
   "metadata": {},
   "outputs": [
    {
     "name": "stdout",
     "output_type": "stream",
     "text": [
      "La racine carrée de l'erreur quadratique moyenne vaut : 129450.55\n"
     ]
    }
   ],
   "source": [
    "print(\"La racine carrée de l'erreur quadratique moyenne vaut :\", RMSE_train.round(2))"
   ]
  },
  {
   "cell_type": "code",
   "execution_count": 104,
   "id": "6b912dae-74f1-42f1-a15c-beb3165df9e0",
   "metadata": {},
   "outputs": [],
   "source": [
    "R_squared_train = 1.0 - (np.sum((y_train - y_predict_train)**2) / np.sum((y_train - np.mean(y_train))**2))"
   ]
  },
  {
   "cell_type": "code",
   "execution_count": 105,
   "id": "98e794b0-6ad7-48a0-9c5e-96a3b6d4448d",
   "metadata": {},
   "outputs": [
    {
     "name": "stdout",
     "output_type": "stream",
     "text": [
      "Le coefficient de détermination vaut : 0.8767\n"
     ]
    }
   ],
   "source": [
    "print(\"Le coefficient de détermination vaut :\", R_squared_train.round(4))"
   ]
  },
  {
   "cell_type": "markdown",
   "id": "c3a9d0dd-b000-4523-a147-645a760e9beb",
   "metadata": {},
   "source": [
    "## Evaluation des performances du modèle sur le jeu de test"
   ]
  },
  {
   "cell_type": "code",
   "execution_count": 116,
   "id": "ca167ebf-6a87-4d2b-840f-28e941ae92b8",
   "metadata": {},
   "outputs": [],
   "source": [
    "y_predict_test = gridSearchCV.best_estimator_.predict(scaled_X_test)"
   ]
  },
  {
   "cell_type": "code",
   "execution_count": 117,
   "id": "84e69446-0aca-4d84-9d01-857642469040",
   "metadata": {},
   "outputs": [],
   "source": [
    "MSE_test = mean_squared_error(y_test, y_predict_test)"
   ]
  },
  {
   "cell_type": "code",
   "execution_count": 118,
   "id": "468c04fa-774e-45d1-a05e-11586ce0728a",
   "metadata": {},
   "outputs": [
    {
     "name": "stdout",
     "output_type": "stream",
     "text": [
      "L'erreur quadratique moyenne vaut : 20422019814.04\n"
     ]
    }
   ],
   "source": [
    "print(\"L'erreur quadratique moyenne vaut :\", MSE_test.round(2))"
   ]
  },
  {
   "cell_type": "code",
   "execution_count": 119,
   "id": "eb9128c2-3b6e-4aa6-9f0b-57899bc1b75b",
   "metadata": {},
   "outputs": [],
   "source": [
    "RMSE_test = mean_squared_error(y_test, y_predict_test, squared=False)"
   ]
  },
  {
   "cell_type": "code",
   "execution_count": 120,
   "id": "5d8a11d7-0118-4a4c-aedf-73b07214ce32",
   "metadata": {},
   "outputs": [
    {
     "name": "stdout",
     "output_type": "stream",
     "text": [
      "La racine carrée de l'erreur quadratique moyenne vaut : 142905.63\n"
     ]
    }
   ],
   "source": [
    "print(\"La racine carrée de l'erreur quadratique moyenne vaut :\", RMSE_test.round(2))"
   ]
  },
  {
   "cell_type": "code",
   "execution_count": 121,
   "id": "fd7d0e9b-ab71-4d3f-80d2-9177dee4ef8a",
   "metadata": {},
   "outputs": [],
   "source": [
    "R_squared_test = 1.0 - (np.sum((y_test - y_predict_test)**2) / np.sum((y_test - np.mean(y_test))**2))"
   ]
  },
  {
   "cell_type": "code",
   "execution_count": 122,
   "id": "3a666b18-c61b-4b29-9b7e-a0149cf999b0",
   "metadata": {},
   "outputs": [
    {
     "name": "stdout",
     "output_type": "stream",
     "text": [
      "Le coefficient de détermination vaut : 0.8441\n"
     ]
    }
   ],
   "source": [
    "print(\"Le coefficient de détermination vaut :\", R_squared_test.round(4))"
   ]
  },
  {
   "cell_type": "markdown",
   "id": "3976c045-c1c1-403b-9576-3eae1e71881d",
   "metadata": {},
   "source": [
    "# New data prediction "
   ]
  },
  {
   "cell_type": "markdown",
   "id": "05034fc4-da74-463d-8708-4a141940cb51",
   "metadata": {},
   "source": [
    "# Choix du modèle pour déploiement"
   ]
  },
  {
   "cell_type": "code",
   "execution_count": 124,
   "id": "6b74ebb3-0833-4481-8f60-ea27051f07fe",
   "metadata": {},
   "outputs": [],
   "source": [
    "import pickle"
   ]
  },
  {
   "cell_type": "code",
   "execution_count": 126,
   "id": "bbf147e2-e900-4d71-a9ac-0cd61f3f0ebe",
   "metadata": {},
   "outputs": [],
   "source": [
    "pickle.dump(y_predict_test, open('MLPregressorModel.pkl', 'wb'))"
   ]
  },
  {
   "cell_type": "code",
   "execution_count": null,
   "id": "298f7dfb-670e-49c7-b682-74a1e56435cc",
   "metadata": {},
   "outputs": [],
   "source": []
  },
  {
   "cell_type": "code",
   "execution_count": null,
   "id": "0fa8177b-b853-494f-95a6-0a415471b97b",
   "metadata": {},
   "outputs": [],
   "source": []
  },
  {
   "cell_type": "code",
   "execution_count": null,
   "id": "dc2ea8d8-2d72-42bb-b277-44e729b657db",
   "metadata": {},
   "outputs": [],
   "source": []
  },
  {
   "cell_type": "code",
   "execution_count": null,
   "id": "95c7cbd9-08cb-4926-87f0-e934e2fcdba0",
   "metadata": {},
   "outputs": [],
   "source": []
  },
  {
   "cell_type": "markdown",
   "id": "a77b82ec-0856-47f4-a5ff-e342692f1503",
   "metadata": {},
   "source": [
    "## D'autres modèles "
   ]
  },
  {
   "cell_type": "code",
   "execution_count": 106,
   "id": "f82dce25-9c30-41ea-8af3-96860bf810c3",
   "metadata": {},
   "outputs": [],
   "source": [
    "\n",
    "from sklearn.datasets import make_regression\n",
    "from sklearn.metrics import mean_squared_error\n",
    "from sklearn.model_selection import cross_val_score\n",
    "from sklearn.preprocessing import scale\n",
    "from sklearn.linear_model import LassoCV"
   ]
  },
  {
   "cell_type": "code",
   "execution_count": 107,
   "id": "3c8ad01d-8eda-4514-8673-cb6e5e6bd55c",
   "metadata": {},
   "outputs": [
    {
     "name": "stdout",
     "output_type": "stream",
     "text": [
      "0.7853162367026174\n"
     ]
    }
   ],
   "source": [
    "reg = LassoCV(cv=5, random_state=0).fit(scaled_X_train, y_train)\n",
    "print(reg.score(scaled_X_test, y_test))"
   ]
  },
  {
   "cell_type": "markdown",
   "id": "640ee629-3789-47d5-b913-8b60dd663c17",
   "metadata": {},
   "source": [
    "# -----------------------------------------------------------------------"
   ]
  },
  {
   "cell_type": "code",
   "execution_count": 108,
   "id": "6d774f7d-b0d6-48e2-bf9a-0334e1c959b8",
   "metadata": {},
   "outputs": [],
   "source": [
    "from sklearn.linear_model import ElasticNetCV"
   ]
  },
  {
   "cell_type": "code",
   "execution_count": 109,
   "id": "1a8065cd-014d-4a73-8fd4-65747974fafb",
   "metadata": {},
   "outputs": [
    {
     "data": {
      "text/plain": [
       "ElasticNetCV(cv=5, random_state=0)"
      ]
     },
     "execution_count": 109,
     "metadata": {},
     "output_type": "execute_result"
    }
   ],
   "source": [
    "regr = ElasticNetCV(cv=5, random_state=0)\n",
    "regr.fit(scaled_X_train, y_train)"
   ]
  },
  {
   "cell_type": "code",
   "execution_count": 110,
   "id": "e3f7e9b2-04ca-4980-9c38-d73c5a7424a0",
   "metadata": {},
   "outputs": [
    {
     "data": {
      "text/plain": [
       "0.004779817871759295"
      ]
     },
     "execution_count": 110,
     "metadata": {},
     "output_type": "execute_result"
    }
   ],
   "source": [
    "regr.score(scaled_X_test, y_test)"
   ]
  },
  {
   "cell_type": "markdown",
   "id": "a0e38e82-1007-4157-804d-7beb71031403",
   "metadata": {},
   "source": [
    "# -----------------------------------------------------------------------"
   ]
  },
  {
   "cell_type": "code",
   "execution_count": 111,
   "id": "9c59be09-aafe-49c4-b0f7-abe567b0ea02",
   "metadata": {},
   "outputs": [],
   "source": [
    "from sklearn.linear_model import PassiveAggressiveRegressor"
   ]
  },
  {
   "cell_type": "code",
   "execution_count": 112,
   "id": "19e36e8d-4cdf-4a99-b5d7-4a2b5edbf0c8",
   "metadata": {},
   "outputs": [
    {
     "name": "stderr",
     "output_type": "stream",
     "text": [
      "C:\\Users\\utilisateur\\anaconda3\\lib\\site-packages\\sklearn\\linear_model\\_stochastic_gradient.py:1503: ConvergenceWarning: Maximum number of iteration reached before convergence. Consider increasing max_iter to improve the fit.\n",
      "  warnings.warn(\n"
     ]
    },
    {
     "data": {
      "text/plain": [
       "PassiveAggressiveRegressor(max_iter=100, random_state=0)"
      ]
     },
     "execution_count": 112,
     "metadata": {},
     "output_type": "execute_result"
    }
   ],
   "source": [
    "regr = PassiveAggressiveRegressor(max_iter=100, random_state=0, tol=1e-3)\n",
    "regr.fit(scaled_X_train, y_train)"
   ]
  },
  {
   "cell_type": "code",
   "execution_count": 113,
   "id": "b556fa7f-c2b7-4e78-9c4e-fd09bd5ee8d5",
   "metadata": {},
   "outputs": [
    {
     "data": {
      "text/plain": [
       "0.2807279736952193"
      ]
     },
     "execution_count": 113,
     "metadata": {},
     "output_type": "execute_result"
    }
   ],
   "source": [
    "regr.score(scaled_X_test, y_test)"
   ]
  },
  {
   "cell_type": "markdown",
   "id": "00345b5b-2a0a-4f84-b2eb-2f84801afc4c",
   "metadata": {},
   "source": [
    "# -----------------------------------------------------------------------"
   ]
  },
  {
   "cell_type": "code",
   "execution_count": 114,
   "id": "bc2191ba-b2cb-495e-8621-a1a06e65310f",
   "metadata": {},
   "outputs": [],
   "source": [
    "import xgboost as xgb"
   ]
  },
  {
   "cell_type": "code",
   "execution_count": 115,
   "id": "14273297-4747-4cad-a573-4e1a2530ba6e",
   "metadata": {},
   "outputs": [
    {
     "name": "stdout",
     "output_type": "stream",
     "text": [
      "Fitting 5 folds for each of 9 candidates, totalling 45 fits\n",
      "0.860926083155135\n",
      "{'max_depth': 6, 'n_estimators': 100}\n"
     ]
    }
   ],
   "source": [
    "xgb_model = xgb.XGBRegressor()\n",
    "clf = GridSearchCV(xgb_model, {'max_depth': [2, 4, 6],'n_estimators': [50, 100, 200]}, verbose=1, n_jobs=2)\n",
    "clf.fit(scaled_X_train, y_train)\n",
    "print(clf.best_score_)\n",
    "print(clf.best_params_)"
   ]
  },
  {
   "cell_type": "markdown",
   "id": "b8179ec5-85cb-4c83-b753-86b19bf05e41",
   "metadata": {},
   "source": [
    "## Evaluation des performances du modèle sur le jeu de test"
   ]
  },
  {
   "cell_type": "code",
   "execution_count": null,
   "id": "c7a0277e-a8ec-4f7e-8768-2deeba57b3c5",
   "metadata": {},
   "outputs": [],
   "source": []
  }
 ],
 "metadata": {
  "kernelspec": {
   "display_name": "Python 3.10.5 64-bit (microsoft store)",
   "language": "python",
   "name": "python3"
  },
  "language_info": {
   "codemirror_mode": {
    "name": "ipython",
    "version": 3
   },
   "file_extension": ".py",
   "mimetype": "text/x-python",
   "name": "python",
   "nbconvert_exporter": "python",
   "pygments_lexer": "ipython3",
   "version": "3.10.5"
  },
  "vscode": {
   "interpreter": {
    "hash": "e0b3fa2f3b879b9917669399f4b4bbfb721e24819f5fcffaa0474341e2955fea"
   }
  }
 },
 "nbformat": 4,
 "nbformat_minor": 5
}
