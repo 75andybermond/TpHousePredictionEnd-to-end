{
 "cells": [
  {
   "cell_type": "code",
   "execution_count": 35,
   "id": "3d3a0925-75d7-4952-8afb-30023cc6781b",
   "metadata": {},
   "outputs": [],
   "source": [
    "import numpy as np\n",
    "import pandas as pd\n",
    "import matplotlib.pyplot as plt # basic plotting\n",
    "import seaborn as sns\n",
    "\n",
    "from sklearn.preprocessing import MinMaxScaler\n",
    "from sklearn.model_selection import train_test_split\n",
    "from sklearn.model_selection import GridSearchCV\n",
    "from sklearn.neural_network import MLPRegressor\n",
    "from sklearn.metrics import mean_squared_error\n",
    "from sklearn.preprocessing import LabelEncoder\n",
    "from sklearn import preprocessing\n",
    "import pickle\n",
    "\n",
    "%matplotlib inline \n",
    "import joblib"
   ]
  },
  {
   "cell_type": "code",
   "execution_count": 16,
   "id": "cd48e2c9-e3e0-4cd3-9da8-082e4cb04eed",
   "metadata": {},
   "outputs": [],
   "source": [
    "#TBD\n",
    "encodedf = pd.read_csv('df_nodummies.csv')"
   ]
  },
  {
   "cell_type": "code",
   "execution_count": 17,
   "id": "8c0879b7-44d4-4655-9a0e-0db9b1968caf",
   "metadata": {},
   "outputs": [
    {
     "data": {
      "text/plain": [
       "((17101, 11), (17101,), (4276, 11), (4276,))"
      ]
     },
     "execution_count": 17,
     "metadata": {},
     "output_type": "execute_result"
    }
   ],
   "source": [
    "X = encodedf.loc[:, encodedf.columns != 'price']\n",
    "y = encodedf.price\n",
    "X_train, X_test, y_train, y_test = train_test_split(X, y, test_size=0.2, random_state=42, shuffle=True)\n",
    "X_train.shape, y_train.shape, X_test.shape, y_test.shape"
   ]
  },
  {
   "cell_type": "code",
   "execution_count": 18,
   "id": "b18cb27d-2f82-4e29-90cf-2a3f9e0d5667",
   "metadata": {},
   "outputs": [
    {
     "data": {
      "text/plain": [
       "MinMaxScaler()"
      ]
     },
     "execution_count": 18,
     "metadata": {},
     "output_type": "execute_result"
    }
   ],
   "source": [
    "scaler = MinMaxScaler()\n",
    "scaler.fit(X_train)"
   ]
  },
  {
   "cell_type": "code",
   "execution_count": 19,
   "id": "b0902dd2-5a2c-4dae-9b66-3d3912caad9a",
   "metadata": {},
   "outputs": [],
   "source": [
    "scaled_X_train = scaler.transform(X_train)\n",
    "scaled_X_test = scaler.transform(X_test)"
   ]
  },
  {
   "cell_type": "code",
   "execution_count": 20,
   "id": "bd6b8449-31b3-4087-b807-ebb61c986d79",
   "metadata": {},
   "outputs": [],
   "source": [
    "model = MLPRegressor(solver='lbfgs', alpha=0.0001, max_iter=10000, random_state=0, max_fun=15000)\n",
    "hyperparameters = {'hidden_layer_sizes': [ (1,),(3,),(5,), (7,)], 'activation': ['logistic', 'tanh', 'relu']}"
   ]
  },
  {
   "cell_type": "code",
   "execution_count": 21,
   "id": "80617912-7764-40f5-9b12-96f14c74ceb3",
   "metadata": {},
   "outputs": [
    {
     "name": "stdout",
     "output_type": "stream",
     "text": [
      "Fitting 4 folds for each of 12 candidates, totalling 48 fits\n"
     ]
    },
    {
     "name": "stderr",
     "output_type": "stream",
     "text": [
      "C:\\Users\\utilisateur\\anaconda3\\lib\\site-packages\\sklearn\\neural_network\\_multilayer_perceptron.py:549: ConvergenceWarning: lbfgs failed to converge (status=2):\n",
      "ABNORMAL_TERMINATION_IN_LNSRCH.\n",
      "\n",
      "Increase the number of iterations (max_iter) or scale the data as shown in:\n",
      "    https://scikit-learn.org/stable/modules/preprocessing.html\n",
      "  self.n_iter_ = _check_optimize_result(\"lbfgs\", opt_res, self.max_iter)\n"
     ]
    },
    {
     "data": {
      "text/plain": [
       "GridSearchCV(cv=4,\n",
       "             estimator=MLPRegressor(max_iter=10000, random_state=0,\n",
       "                                    solver='lbfgs'),\n",
       "             param_grid={'activation': ['logistic', 'tanh', 'relu'],\n",
       "                         'hidden_layer_sizes': [(1,), (3,), (5,), (7,)]},\n",
       "             return_train_score=True, verbose=1)"
      ]
     },
     "execution_count": 21,
     "metadata": {},
     "output_type": "execute_result"
    }
   ],
   "source": [
    "#TBD\n",
    "gridSearchCV = GridSearchCV(model,\n",
    "                            param_grid= hyperparameters,\n",
    "                            refit=True,\n",
    "                            cv=4,\n",
    "                            return_train_score=True, verbose=1)\n",
    "\n",
    "gridSearchCV.fit(scaled_X_train, y_train)"
   ]
  },
  {
   "cell_type": "code",
   "execution_count": 22,
   "id": "fdeb9ab0-1ada-47f8-a542-196fbbb6d648",
   "metadata": {},
   "outputs": [
    {
     "data": {
      "text/plain": [
       "{'activation': 'relu', 'hidden_layer_sizes': (3,)}"
      ]
     },
     "execution_count": 22,
     "metadata": {},
     "output_type": "execute_result"
    }
   ],
   "source": [
    "gridSearchCV.best_params_"
   ]
  },
  {
   "cell_type": "code",
   "execution_count": 23,
   "id": "0bd38de5-5a0d-4fc7-95d6-81414ecfd0b2",
   "metadata": {},
   "outputs": [],
   "source": [
    "y_predict_train = gridSearchCV.best_estimator_.predict(scaled_X_train)\n"
   ]
  },
  {
   "cell_type": "code",
   "execution_count": 24,
   "id": "dff475f6-e62b-4a1a-aa2f-a9459095f7a0",
   "metadata": {},
   "outputs": [],
   "source": [
    "R_squared_train = 1.0 - (np.sum((y_train - y_predict_train)**2) / np.sum((y_train - np.mean(y_train))**2))"
   ]
  },
  {
   "cell_type": "code",
   "execution_count": 30,
   "id": "6be33b14-4da6-4401-b7eb-15ffe65e150f",
   "metadata": {},
   "outputs": [
    {
     "name": "stdout",
     "output_type": "stream",
     "text": [
      "Le coefficient de détermination sur le train/  R2 vaut : 0.726\n"
     ]
    }
   ],
   "source": [
    "print(\"Le coefficient de détermination sur le train/  R2 vaut :\", R_squared_train.round(4))"
   ]
  },
  {
   "cell_type": "code",
   "execution_count": 31,
   "id": "f4b61436-3b02-4eb7-8435-67fb94f8489c",
   "metadata": {},
   "outputs": [],
   "source": [
    "y_predict_test = gridSearchCV.best_estimator_.predict(scaled_X_test)"
   ]
  },
  {
   "cell_type": "code",
   "execution_count": 32,
   "id": "44b25232-e5e9-4e74-955b-d61d6490fdac",
   "metadata": {},
   "outputs": [],
   "source": [
    "R_squared_test = 1.0 - (np.sum((y_test - y_predict_test)**2) / np.sum((y_test - np.mean(y_test))**2))"
   ]
  },
  {
   "cell_type": "code",
   "execution_count": 33,
   "id": "c33d3f5a-337b-4b71-b234-6b65646adc94",
   "metadata": {},
   "outputs": [
    {
     "name": "stdout",
     "output_type": "stream",
     "text": [
      "Le coefficient de détermination sur le test /R2 vaut : 0.7133\n"
     ]
    }
   ],
   "source": [
    "print(\"Le coefficient de détermination sur le test /R2 vaut :\", R_squared_test.round(4))"
   ]
  },
  {
   "cell_type": "code",
   "execution_count": 36,
   "id": "91928690-4ccd-41d3-aaa5-45b16b76b803",
   "metadata": {},
   "outputs": [],
   "source": [
    "# Dictionary of best parameters\n",
    "best_pars = gridSearchCV.best_params_\n",
    "# Best XGB model that was found based on the metric score you specify\n",
    "best_model = gridSearchCV.best_estimator_\n",
    "# Save model\n",
    "pickle.dump(gridSearchCV.best_estimator_, open(\"model_no_dummies.pkl\", \"wb\"))"
   ]
  },
  {
   "cell_type": "code",
   "execution_count": 54,
   "id": "eae13fe9-2ba1-4727-8571-dc2ddf063d52",
   "metadata": {},
   "outputs": [
    {
     "name": "stdout",
     "output_type": "stream",
     "text": [
      "[1.3379448e+09]\n"
     ]
    }
   ],
   "source": [
    "print(best_model.predict([[3,1,1, 6, -122.393, 47.5112, 16, 2015, 1600, 0, 2]]))\n",
    "\n"
   ]
  },
  {
   "cell_type": "code",
   "execution_count": 44,
   "id": "c45681b1-f166-42b2-9600-5bc485fbf1bc",
   "metadata": {},
   "outputs": [
    {
     "data": {
      "text/plain": [
       "(4276, 11)"
      ]
     },
     "execution_count": 44,
     "metadata": {},
     "output_type": "execute_result"
    }
   ],
   "source": [
    "scaled_X_test.shape"
   ]
  },
  {
   "cell_type": "code",
   "execution_count": 46,
   "id": "1441de0a-5017-41ec-8a28-877bfed0cc31",
   "metadata": {},
   "outputs": [],
   "source": [
    "feature = [890, 40, 1, 1, 1, 2014, 98001, 4, 1, 47, -122]"
   ]
  },
  {
   "cell_type": "code",
   "execution_count": 53,
   "id": "f00517ef-efab-4129-b687-9ee712dff78a",
   "metadata": {},
   "outputs": [
    {
     "data": {
      "text/plain": [
       "array([[  890,    40,     1,     1,     1,  2014, 98001,     4,     1,\n",
       "           47,  -122]])"
      ]
     },
     "execution_count": 53,
     "metadata": {},
     "output_type": "execute_result"
    }
   ],
   "source": [
    "liste = np.array(feature).reshape(1, -1,)\n",
    "liste"
   ]
  },
  {
   "cell_type": "code",
   "execution_count": 49,
   "id": "0fccaa11-b53c-494b-bdae-ca3ffb3c5ad0",
   "metadata": {},
   "outputs": [
    {
     "data": {
      "text/html": [
       "<div>\n",
       "<style scoped>\n",
       "    .dataframe tbody tr th:only-of-type {\n",
       "        vertical-align: middle;\n",
       "    }\n",
       "\n",
       "    .dataframe tbody tr th {\n",
       "        vertical-align: top;\n",
       "    }\n",
       "\n",
       "    .dataframe thead th {\n",
       "        text-align: right;\n",
       "    }\n",
       "</style>\n",
       "<table border=\"1\" class=\"dataframe\">\n",
       "  <thead>\n",
       "    <tr style=\"text-align: right;\">\n",
       "      <th></th>\n",
       "      <th>price</th>\n",
       "      <th>bedrooms</th>\n",
       "      <th>bathrooms</th>\n",
       "      <th>floors</th>\n",
       "      <th>grade</th>\n",
       "      <th>long</th>\n",
       "      <th>lat</th>\n",
       "      <th>zipcode</th>\n",
       "      <th>year</th>\n",
       "      <th>sqft_above</th>\n",
       "      <th>view</th>\n",
       "      <th>HouseAgeGroup</th>\n",
       "    </tr>\n",
       "  </thead>\n",
       "  <tbody>\n",
       "    <tr>\n",
       "      <th>0</th>\n",
       "      <td>221900.0</td>\n",
       "      <td>3</td>\n",
       "      <td>1.0</td>\n",
       "      <td>1.0</td>\n",
       "      <td>7</td>\n",
       "      <td>-122.257</td>\n",
       "      <td>47.5112</td>\n",
       "      <td>66</td>\n",
       "      <td>2014</td>\n",
       "      <td>1180</td>\n",
       "      <td>0.0</td>\n",
       "      <td>3</td>\n",
       "    </tr>\n",
       "    <tr>\n",
       "      <th>1</th>\n",
       "      <td>538000.0</td>\n",
       "      <td>3</td>\n",
       "      <td>2.0</td>\n",
       "      <td>2.0</td>\n",
       "      <td>7</td>\n",
       "      <td>-122.319</td>\n",
       "      <td>47.7210</td>\n",
       "      <td>55</td>\n",
       "      <td>2014</td>\n",
       "      <td>2170</td>\n",
       "      <td>0.0</td>\n",
       "      <td>3</td>\n",
       "    </tr>\n",
       "    <tr>\n",
       "      <th>2</th>\n",
       "      <td>180000.0</td>\n",
       "      <td>2</td>\n",
       "      <td>1.0</td>\n",
       "      <td>1.0</td>\n",
       "      <td>6</td>\n",
       "      <td>-122.233</td>\n",
       "      <td>47.7379</td>\n",
       "      <td>16</td>\n",
       "      <td>2015</td>\n",
       "      <td>770</td>\n",
       "      <td>0.0</td>\n",
       "      <td>4</td>\n",
       "    </tr>\n",
       "    <tr>\n",
       "      <th>3</th>\n",
       "      <td>604000.0</td>\n",
       "      <td>4</td>\n",
       "      <td>3.0</td>\n",
       "      <td>1.0</td>\n",
       "      <td>7</td>\n",
       "      <td>-122.393</td>\n",
       "      <td>47.5208</td>\n",
       "      <td>58</td>\n",
       "      <td>2014</td>\n",
       "      <td>1050</td>\n",
       "      <td>0.0</td>\n",
       "      <td>3</td>\n",
       "    </tr>\n",
       "    <tr>\n",
       "      <th>4</th>\n",
       "      <td>510000.0</td>\n",
       "      <td>3</td>\n",
       "      <td>2.0</td>\n",
       "      <td>1.0</td>\n",
       "      <td>8</td>\n",
       "      <td>-122.045</td>\n",
       "      <td>47.6168</td>\n",
       "      <td>37</td>\n",
       "      <td>2015</td>\n",
       "      <td>1680</td>\n",
       "      <td>0.0</td>\n",
       "      <td>2</td>\n",
       "    </tr>\n",
       "    <tr>\n",
       "      <th>...</th>\n",
       "      <td>...</td>\n",
       "      <td>...</td>\n",
       "      <td>...</td>\n",
       "      <td>...</td>\n",
       "      <td>...</td>\n",
       "      <td>...</td>\n",
       "      <td>...</td>\n",
       "      <td>...</td>\n",
       "      <td>...</td>\n",
       "      <td>...</td>\n",
       "      <td>...</td>\n",
       "      <td>...</td>\n",
       "    </tr>\n",
       "    <tr>\n",
       "      <th>21372</th>\n",
       "      <td>360000.0</td>\n",
       "      <td>3</td>\n",
       "      <td>2.0</td>\n",
       "      <td>3.0</td>\n",
       "      <td>8</td>\n",
       "      <td>-122.346</td>\n",
       "      <td>47.6993</td>\n",
       "      <td>42</td>\n",
       "      <td>2014</td>\n",
       "      <td>1530</td>\n",
       "      <td>0.0</td>\n",
       "      <td>1</td>\n",
       "    </tr>\n",
       "    <tr>\n",
       "      <th>21373</th>\n",
       "      <td>400000.0</td>\n",
       "      <td>4</td>\n",
       "      <td>2.0</td>\n",
       "      <td>2.0</td>\n",
       "      <td>8</td>\n",
       "      <td>-122.362</td>\n",
       "      <td>47.5107</td>\n",
       "      <td>60</td>\n",
       "      <td>2015</td>\n",
       "      <td>2310</td>\n",
       "      <td>0.0</td>\n",
       "      <td>1</td>\n",
       "    </tr>\n",
       "    <tr>\n",
       "      <th>21374</th>\n",
       "      <td>402101.0</td>\n",
       "      <td>2</td>\n",
       "      <td>1.0</td>\n",
       "      <td>2.0</td>\n",
       "      <td>7</td>\n",
       "      <td>-122.299</td>\n",
       "      <td>47.5944</td>\n",
       "      <td>59</td>\n",
       "      <td>2014</td>\n",
       "      <td>1020</td>\n",
       "      <td>0.0</td>\n",
       "      <td>1</td>\n",
       "    </tr>\n",
       "    <tr>\n",
       "      <th>21375</th>\n",
       "      <td>400000.0</td>\n",
       "      <td>3</td>\n",
       "      <td>2.0</td>\n",
       "      <td>2.0</td>\n",
       "      <td>8</td>\n",
       "      <td>-122.069</td>\n",
       "      <td>47.5345</td>\n",
       "      <td>15</td>\n",
       "      <td>2015</td>\n",
       "      <td>1600</td>\n",
       "      <td>0.0</td>\n",
       "      <td>1</td>\n",
       "    </tr>\n",
       "    <tr>\n",
       "      <th>21376</th>\n",
       "      <td>325000.0</td>\n",
       "      <td>2</td>\n",
       "      <td>1.0</td>\n",
       "      <td>2.0</td>\n",
       "      <td>7</td>\n",
       "      <td>-122.299</td>\n",
       "      <td>47.5941</td>\n",
       "      <td>59</td>\n",
       "      <td>2014</td>\n",
       "      <td>1020</td>\n",
       "      <td>0.0</td>\n",
       "      <td>1</td>\n",
       "    </tr>\n",
       "  </tbody>\n",
       "</table>\n",
       "<p>21377 rows × 12 columns</p>\n",
       "</div>"
      ],
      "text/plain": [
       "          price  bedrooms  bathrooms  floors  grade     long      lat  \\\n",
       "0      221900.0         3        1.0     1.0      7 -122.257  47.5112   \n",
       "1      538000.0         3        2.0     2.0      7 -122.319  47.7210   \n",
       "2      180000.0         2        1.0     1.0      6 -122.233  47.7379   \n",
       "3      604000.0         4        3.0     1.0      7 -122.393  47.5208   \n",
       "4      510000.0         3        2.0     1.0      8 -122.045  47.6168   \n",
       "...         ...       ...        ...     ...    ...      ...      ...   \n",
       "21372  360000.0         3        2.0     3.0      8 -122.346  47.6993   \n",
       "21373  400000.0         4        2.0     2.0      8 -122.362  47.5107   \n",
       "21374  402101.0         2        1.0     2.0      7 -122.299  47.5944   \n",
       "21375  400000.0         3        2.0     2.0      8 -122.069  47.5345   \n",
       "21376  325000.0         2        1.0     2.0      7 -122.299  47.5941   \n",
       "\n",
       "       zipcode  year  sqft_above  view  HouseAgeGroup  \n",
       "0           66  2014        1180   0.0              3  \n",
       "1           55  2014        2170   0.0              3  \n",
       "2           16  2015         770   0.0              4  \n",
       "3           58  2014        1050   0.0              3  \n",
       "4           37  2015        1680   0.0              2  \n",
       "...        ...   ...         ...   ...            ...  \n",
       "21372       42  2014        1530   0.0              1  \n",
       "21373       60  2015        2310   0.0              1  \n",
       "21374       59  2014        1020   0.0              1  \n",
       "21375       15  2015        1600   0.0              1  \n",
       "21376       59  2014        1020   0.0              1  \n",
       "\n",
       "[21377 rows x 12 columns]"
      ]
     },
     "execution_count": 49,
     "metadata": {},
     "output_type": "execute_result"
    }
   ],
   "source": [
    "encodedf"
   ]
  },
  {
   "cell_type": "code",
   "execution_count": 51,
   "id": "70c57611-26a9-426b-bc55-77b4431c2eec",
   "metadata": {},
   "outputs": [
    {
     "data": {
      "text/plain": [
       "array([3, 4, 2, 1], dtype=int64)"
      ]
     },
     "execution_count": 51,
     "metadata": {},
     "output_type": "execute_result"
    }
   ],
   "source": [
    "encodedf.HouseAgeGroup.unique()"
   ]
  },
  {
   "cell_type": "code",
   "execution_count": null,
   "id": "ee7924a5-d988-479e-a368-f2ddcd7b2aae",
   "metadata": {},
   "outputs": [],
   "source": []
  }
 ],
 "metadata": {
  "kernelspec": {
   "display_name": "Python 3 (ipykernel)",
   "language": "python",
   "name": "python3"
  },
  "language_info": {
   "codemirror_mode": {
    "name": "ipython",
    "version": 3
   },
   "file_extension": ".py",
   "mimetype": "text/x-python",
   "name": "python",
   "nbconvert_exporter": "python",
   "pygments_lexer": "ipython3",
   "version": "3.9.12"
  }
 },
 "nbformat": 4,
 "nbformat_minor": 5
}
